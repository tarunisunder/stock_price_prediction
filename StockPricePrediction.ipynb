{
 "cells": [
  {
   "cell_type": "code",
   "execution_count": 18,
   "id": "c1e34785",
   "metadata": {},
   "outputs": [],
   "source": [
    "import statsmodels.formula.api as smf\n",
    "import pandas as pd\n",
    "import numpy as np\n",
    "from sklearn.preprocessing import OneHotEncoder\n",
    "from sklearn.neighbors import KNeighborsClassifier\n",
    "from sklearn.model_selection import train_test_split, GridSearchCV\n",
    "from sklearn.preprocessing import MinMaxScaler\n",
    "from sklearn import datasets\n",
    "from sklearn.model_selection import train_test_split\n",
    "from sklearn.metrics import accuracy_score\n",
    "import statsmodels.api as sm\n",
    "from sklearn.linear_model import LinearRegression\n",
    "from sklearn.neighbors import KNeighborsRegressor\n",
    "from sklearn.linear_model import LinearRegression\n",
    "from sklearn.model_selection import KFold\n",
    "from sklearn.model_selection import cross_val_score\n",
    "from sklearn.tree import DecisionTreeClassifier\n",
    "from sklearn.linear_model import Ridge\n",
    "from sklearn.metrics import mean_squared_error\n",
    "from sklearn.neural_network import MLPClassifier\n",
    "from sklearn.metrics import accuracy_score\n",
    "from sklearn.ensemble import RandomForestClassifier"
   ]
  },
  {
   "cell_type": "markdown",
   "id": "73c8eb48",
   "metadata": {},
   "source": [
    "## Importing test data "
   ]
  },
  {
   "cell_type": "code",
   "execution_count": 19,
   "id": "b7e1033b",
   "metadata": {},
   "outputs": [],
   "source": [
    "test_data = pd.read_csv('option_test_wolabel.csv')"
   ]
  },
  {
   "cell_type": "code",
   "execution_count": 20,
   "id": "5c3a4722",
   "metadata": {
    "scrolled": true
   },
   "outputs": [
    {
     "data": {
      "text/html": [
       "<div>\n",
       "<style scoped>\n",
       "    .dataframe tbody tr th:only-of-type {\n",
       "        vertical-align: middle;\n",
       "    }\n",
       "\n",
       "    .dataframe tbody tr th {\n",
       "        vertical-align: top;\n",
       "    }\n",
       "\n",
       "    .dataframe thead th {\n",
       "        text-align: right;\n",
       "    }\n",
       "</style>\n",
       "<table border=\"1\" class=\"dataframe\">\n",
       "  <thead>\n",
       "    <tr style=\"text-align: right;\">\n",
       "      <th></th>\n",
       "      <th>S</th>\n",
       "      <th>K</th>\n",
       "      <th>tau</th>\n",
       "      <th>r</th>\n",
       "    </tr>\n",
       "  </thead>\n",
       "  <tbody>\n",
       "    <tr>\n",
       "      <th>0</th>\n",
       "      <td>431.618600</td>\n",
       "      <td>460</td>\n",
       "      <td>0.293651</td>\n",
       "      <td>0.03147</td>\n",
       "    </tr>\n",
       "    <tr>\n",
       "      <th>1</th>\n",
       "      <td>432.633296</td>\n",
       "      <td>420</td>\n",
       "      <td>0.182540</td>\n",
       "      <td>0.03147</td>\n",
       "    </tr>\n",
       "    <tr>\n",
       "      <th>2</th>\n",
       "      <td>432.633296</td>\n",
       "      <td>430</td>\n",
       "      <td>0.182540</td>\n",
       "      <td>0.03147</td>\n",
       "    </tr>\n",
       "    <tr>\n",
       "      <th>3</th>\n",
       "      <td>431.618600</td>\n",
       "      <td>415</td>\n",
       "      <td>0.293651</td>\n",
       "      <td>0.03147</td>\n",
       "    </tr>\n",
       "    <tr>\n",
       "      <th>4</th>\n",
       "      <td>434.772855</td>\n",
       "      <td>420</td>\n",
       "      <td>0.043651</td>\n",
       "      <td>0.03147</td>\n",
       "    </tr>\n",
       "  </tbody>\n",
       "</table>\n",
       "</div>"
      ],
      "text/plain": [
       "            S    K       tau        r\n",
       "0  431.618600  460  0.293651  0.03147\n",
       "1  432.633296  420  0.182540  0.03147\n",
       "2  432.633296  430  0.182540  0.03147\n",
       "3  431.618600  415  0.293651  0.03147\n",
       "4  434.772855  420  0.043651  0.03147"
      ]
     },
     "execution_count": 20,
     "metadata": {},
     "output_type": "execute_result"
    }
   ],
   "source": [
    "test_data.head()"
   ]
  },
  {
   "cell_type": "markdown",
   "id": "c83a1235",
   "metadata": {},
   "source": [
    "## Import and preprocessing train data"
   ]
  },
  {
   "cell_type": "code",
   "execution_count": 21,
   "id": "75452c88",
   "metadata": {},
   "outputs": [
    {
     "name": "stdout",
     "output_type": "stream",
     "text": [
      "       Value           S      K       tau        r     BS\n",
      "0  21.670404  431.623898  420.0  0.341270  0.03013  Under\n",
      "1   0.125000  427.015526  465.0  0.166667  0.03126   Over\n",
      "2  20.691244  427.762336  415.0  0.265873  0.03116  Under\n",
      "3   1.035002  451.711658  460.0  0.063492  0.02972   Over\n",
      "4  39.553020  446.718974  410.0  0.166667  0.02962  Under\n"
     ]
    },
    {
     "data": {
      "text/plain": [
       "Value    float64\n",
       "S        float64\n",
       "K        float64\n",
       "tau      float64\n",
       "r        float64\n",
       "BS        object\n",
       "dtype: object"
      ]
     },
     "execution_count": 21,
     "metadata": {},
     "output_type": "execute_result"
    }
   ],
   "source": [
    "data = pd.read_csv('option_train.csv')\n",
    "print(data.head())\n",
    "data.dtypes"
   ]
  },
  {
   "cell_type": "code",
   "execution_count": 22,
   "id": "3127f683",
   "metadata": {},
   "outputs": [
    {
     "data": {
      "text/html": [
       "<div>\n",
       "<style scoped>\n",
       "    .dataframe tbody tr th:only-of-type {\n",
       "        vertical-align: middle;\n",
       "    }\n",
       "\n",
       "    .dataframe tbody tr th {\n",
       "        vertical-align: top;\n",
       "    }\n",
       "\n",
       "    .dataframe thead th {\n",
       "        text-align: right;\n",
       "    }\n",
       "</style>\n",
       "<table border=\"1\" class=\"dataframe\">\n",
       "  <thead>\n",
       "    <tr style=\"text-align: right;\">\n",
       "      <th></th>\n",
       "      <th>Value</th>\n",
       "      <th>S</th>\n",
       "      <th>K</th>\n",
       "      <th>tau</th>\n",
       "      <th>r</th>\n",
       "    </tr>\n",
       "  </thead>\n",
       "  <tbody>\n",
       "    <tr>\n",
       "      <th>count</th>\n",
       "      <td>1678.000000</td>\n",
       "      <td>1679.000000</td>\n",
       "      <td>1678.000000</td>\n",
       "      <td>1679.000000</td>\n",
       "      <td>1680.000000</td>\n",
       "    </tr>\n",
       "    <tr>\n",
       "      <th>mean</th>\n",
       "      <td>15.068709</td>\n",
       "      <td>464.402535</td>\n",
       "      <td>438.241955</td>\n",
       "      <td>0.437519</td>\n",
       "      <td>0.030235</td>\n",
       "    </tr>\n",
       "    <tr>\n",
       "      <th>std</th>\n",
       "      <td>14.040023</td>\n",
       "      <td>973.652179</td>\n",
       "      <td>23.408989</td>\n",
       "      <td>7.057555</td>\n",
       "      <td>0.000557</td>\n",
       "    </tr>\n",
       "    <tr>\n",
       "      <th>min</th>\n",
       "      <td>0.125000</td>\n",
       "      <td>0.000000</td>\n",
       "      <td>375.000000</td>\n",
       "      <td>0.003968</td>\n",
       "      <td>0.029510</td>\n",
       "    </tr>\n",
       "    <tr>\n",
       "      <th>25%</th>\n",
       "      <td>2.255001</td>\n",
       "      <td>433.863864</td>\n",
       "      <td>420.000000</td>\n",
       "      <td>0.119048</td>\n",
       "      <td>0.029820</td>\n",
       "    </tr>\n",
       "    <tr>\n",
       "      <th>50%</th>\n",
       "      <td>11.190967</td>\n",
       "      <td>442.634081</td>\n",
       "      <td>440.000000</td>\n",
       "      <td>0.202381</td>\n",
       "      <td>0.030130</td>\n",
       "    </tr>\n",
       "    <tr>\n",
       "      <th>75%</th>\n",
       "      <td>25.747434</td>\n",
       "      <td>447.320414</td>\n",
       "      <td>455.000000</td>\n",
       "      <td>0.285714</td>\n",
       "      <td>0.030540</td>\n",
       "    </tr>\n",
       "    <tr>\n",
       "      <th>max</th>\n",
       "      <td>60.149367</td>\n",
       "      <td>40333.000000</td>\n",
       "      <td>500.000000</td>\n",
       "      <td>250.000000</td>\n",
       "      <td>0.031880</td>\n",
       "    </tr>\n",
       "  </tbody>\n",
       "</table>\n",
       "</div>"
      ],
      "text/plain": [
       "             Value             S            K          tau            r\n",
       "count  1678.000000   1679.000000  1678.000000  1679.000000  1680.000000\n",
       "mean     15.068709    464.402535   438.241955     0.437519     0.030235\n",
       "std      14.040023    973.652179    23.408989     7.057555     0.000557\n",
       "min       0.125000      0.000000   375.000000     0.003968     0.029510\n",
       "25%       2.255001    433.863864   420.000000     0.119048     0.029820\n",
       "50%      11.190967    442.634081   440.000000     0.202381     0.030130\n",
       "75%      25.747434    447.320414   455.000000     0.285714     0.030540\n",
       "max      60.149367  40333.000000   500.000000   250.000000     0.031880"
      ]
     },
     "execution_count": 22,
     "metadata": {},
     "output_type": "execute_result"
    }
   ],
   "source": [
    "data.describe()"
   ]
  },
  {
   "cell_type": "code",
   "execution_count": 23,
   "id": "8f2cdf5b",
   "metadata": {},
   "outputs": [
    {
     "data": {
      "text/plain": [
       "Value    2\n",
       "S        1\n",
       "K        2\n",
       "tau      1\n",
       "r        0\n",
       "BS       0\n",
       "dtype: int64"
      ]
     },
     "execution_count": 23,
     "metadata": {},
     "output_type": "execute_result"
    }
   ],
   "source": [
    "data.isna().sum()"
   ]
  },
  {
   "cell_type": "code",
   "execution_count": 24,
   "id": "42f0daf2",
   "metadata": {},
   "outputs": [],
   "source": [
    "data = data.drop(data[data.S >40000].index)\n",
    "data = data.drop(data[data.tau > 200].index)\n",
    "data = data.drop(data[data.tau>140].index)\n",
    "data = data.drop(data[data.S<5].index)"
   ]
  },
  {
   "cell_type": "code",
   "execution_count": 25,
   "id": "35046145",
   "metadata": {},
   "outputs": [],
   "source": [
    "data = data.dropna()"
   ]
  },
  {
   "cell_type": "code",
   "execution_count": 26,
   "id": "b1e84811",
   "metadata": {},
   "outputs": [
    {
     "data": {
      "text/plain": [
       "Value    0\n",
       "S        0\n",
       "K        0\n",
       "tau      0\n",
       "r        0\n",
       "BS       0\n",
       "dtype: int64"
      ]
     },
     "execution_count": 26,
     "metadata": {},
     "output_type": "execute_result"
    }
   ],
   "source": [
    "data.isna().sum()"
   ]
  },
  {
   "cell_type": "code",
   "execution_count": 27,
   "id": "92da6837",
   "metadata": {},
   "outputs": [],
   "source": [
    "X = data.iloc[:, 1:5]\n",
    "y = data.iloc[: , 0]"
   ]
  },
  {
   "cell_type": "code",
   "execution_count": 28,
   "id": "b46e8125",
   "metadata": {},
   "outputs": [
    {
     "data": {
      "text/plain": [
       "(               S      K       tau        r\n",
       " 0     431.623898  420.0  0.341270  0.03013\n",
       " 1     427.015526  465.0  0.166667  0.03126\n",
       " 2     427.762336  415.0  0.265873  0.03116\n",
       " 3     451.711658  460.0  0.063492  0.02972\n",
       " 4     446.718974  410.0  0.166667  0.02962\n",
       " ...          ...    ...       ...      ...\n",
       " 1675  444.397163  475.0  0.273810  0.03034\n",
       " 1676  438.453825  410.0  0.301587  0.02972\n",
       " 1677  428.042219  390.0  0.170635  0.03188\n",
       " 1678  439.081203  480.0  0.293651  0.02962\n",
       " 1679  432.167692  465.0  0.218254  0.02993\n",
       " \n",
       " [1673 rows x 4 columns],\n",
       " 0       21.670404\n",
       " 1        0.125000\n",
       " 2       20.691244\n",
       " 3        1.035002\n",
       " 4       39.553020\n",
       "           ...    \n",
       " 1675     1.470000\n",
       " 1676    34.927317\n",
       " 1677    41.127997\n",
       " 1678     0.440003\n",
       " 1679     0.410002\n",
       " Name: Value, Length: 1673, dtype: float64)"
      ]
     },
     "execution_count": 28,
     "metadata": {},
     "output_type": "execute_result"
    }
   ],
   "source": [
    "X, y"
   ]
  },
  {
   "cell_type": "code",
   "execution_count": 29,
   "id": "d1c3392a",
   "metadata": {},
   "outputs": [],
   "source": [
    "X_train, X_test, y_train, y_test = train_test_split(X, y, test_size=0.3)"
   ]
  },
  {
   "cell_type": "markdown",
   "id": "e0c050fd",
   "metadata": {},
   "source": [
    "## Regression "
   ]
  },
  {
   "cell_type": "markdown",
   "id": "b1225b78",
   "metadata": {},
   "source": [
    "### Multi-linear regression"
   ]
  },
  {
   "cell_type": "code",
   "execution_count": 30,
   "id": "816e5a13",
   "metadata": {},
   "outputs": [],
   "source": [
    "model1= smf.ols('Value ~ S + K + tau + r', data = data).fit()"
   ]
  },
  {
   "cell_type": "code",
   "execution_count": 31,
   "id": "b96fa795",
   "metadata": {
    "scrolled": true
   },
   "outputs": [
    {
     "data": {
      "text/html": [
       "<table class=\"simpletable\">\n",
       "<caption>OLS Regression Results</caption>\n",
       "<tr>\n",
       "  <th>Dep. Variable:</th>          <td>Value</td>      <th>  R-squared:         </th> <td>   0.912</td>\n",
       "</tr>\n",
       "<tr>\n",
       "  <th>Model:</th>                   <td>OLS</td>       <th>  Adj. R-squared:    </th> <td>   0.912</td>\n",
       "</tr>\n",
       "<tr>\n",
       "  <th>Method:</th>             <td>Least Squares</td>  <th>  F-statistic:       </th> <td>   4315.</td>\n",
       "</tr>\n",
       "<tr>\n",
       "  <th>Date:</th>             <td>Wed, 07 Jun 2023</td> <th>  Prob (F-statistic):</th>  <td>  0.00</td> \n",
       "</tr>\n",
       "<tr>\n",
       "  <th>Time:</th>                 <td>17:05:20</td>     <th>  Log-Likelihood:    </th> <td> -4762.6</td>\n",
       "</tr>\n",
       "<tr>\n",
       "  <th>No. Observations:</th>      <td>  1673</td>      <th>  AIC:               </th> <td>   9535.</td>\n",
       "</tr>\n",
       "<tr>\n",
       "  <th>Df Residuals:</th>          <td>  1668</td>      <th>  BIC:               </th> <td>   9562.</td>\n",
       "</tr>\n",
       "<tr>\n",
       "  <th>Df Model:</th>              <td>     4</td>      <th>                     </th>     <td> </td>   \n",
       "</tr>\n",
       "<tr>\n",
       "  <th>Covariance Type:</th>      <td>nonrobust</td>    <th>                     </th>     <td> </td>   \n",
       "</tr>\n",
       "</table>\n",
       "<table class=\"simpletable\">\n",
       "<tr>\n",
       "      <td></td>         <th>coef</th>     <th>std err</th>      <th>t</th>      <th>P>|t|</th>  <th>[0.025</th>    <th>0.975]</th>  \n",
       "</tr>\n",
       "<tr>\n",
       "  <th>Intercept</th> <td>  -22.2504</td> <td>   11.244</td> <td>   -1.979</td> <td> 0.048</td> <td>  -44.304</td> <td>   -0.197</td>\n",
       "</tr>\n",
       "<tr>\n",
       "  <th>S</th>         <td>    0.6216</td> <td>    0.016</td> <td>   39.725</td> <td> 0.000</td> <td>    0.591</td> <td>    0.652</td>\n",
       "</tr>\n",
       "<tr>\n",
       "  <th>K</th>         <td>   -0.5903</td> <td>    0.005</td> <td> -129.944</td> <td> 0.000</td> <td>   -0.599</td> <td>   -0.581</td>\n",
       "</tr>\n",
       "<tr>\n",
       "  <th>tau</th>       <td>   31.6364</td> <td>    1.048</td> <td>   30.198</td> <td> 0.000</td> <td>   29.582</td> <td>   33.691</td>\n",
       "</tr>\n",
       "<tr>\n",
       "  <th>r</th>         <td>  515.3516</td> <td>  207.201</td> <td>    2.487</td> <td> 0.013</td> <td>  108.949</td> <td>  921.754</td>\n",
       "</tr>\n",
       "</table>\n",
       "<table class=\"simpletable\">\n",
       "<tr>\n",
       "  <th>Omnibus:</th>       <td>156.358</td> <th>  Durbin-Watson:     </th> <td>   2.080</td>\n",
       "</tr>\n",
       "<tr>\n",
       "  <th>Prob(Omnibus):</th> <td> 0.000</td>  <th>  Jarque-Bera (JB):  </th> <td> 202.106</td>\n",
       "</tr>\n",
       "<tr>\n",
       "  <th>Skew:</th>          <td> 0.851</td>  <th>  Prob(JB):          </th> <td>1.30e-44</td>\n",
       "</tr>\n",
       "<tr>\n",
       "  <th>Kurtosis:</th>      <td> 3.063</td>  <th>  Cond. No.          </th> <td>1.26e+06</td>\n",
       "</tr>\n",
       "</table><br/><br/>Notes:<br/>[1] Standard Errors assume that the covariance matrix of the errors is correctly specified.<br/>[2] The condition number is large, 1.26e+06. This might indicate that there are<br/>strong multicollinearity or other numerical problems."
      ],
      "text/plain": [
       "<class 'statsmodels.iolib.summary.Summary'>\n",
       "\"\"\"\n",
       "                            OLS Regression Results                            \n",
       "==============================================================================\n",
       "Dep. Variable:                  Value   R-squared:                       0.912\n",
       "Model:                            OLS   Adj. R-squared:                  0.912\n",
       "Method:                 Least Squares   F-statistic:                     4315.\n",
       "Date:                Wed, 07 Jun 2023   Prob (F-statistic):               0.00\n",
       "Time:                        17:05:20   Log-Likelihood:                -4762.6\n",
       "No. Observations:                1673   AIC:                             9535.\n",
       "Df Residuals:                    1668   BIC:                             9562.\n",
       "Df Model:                           4                                         \n",
       "Covariance Type:            nonrobust                                         \n",
       "==============================================================================\n",
       "                 coef    std err          t      P>|t|      [0.025      0.975]\n",
       "------------------------------------------------------------------------------\n",
       "Intercept    -22.2504     11.244     -1.979      0.048     -44.304      -0.197\n",
       "S              0.6216      0.016     39.725      0.000       0.591       0.652\n",
       "K             -0.5903      0.005   -129.944      0.000      -0.599      -0.581\n",
       "tau           31.6364      1.048     30.198      0.000      29.582      33.691\n",
       "r            515.3516    207.201      2.487      0.013     108.949     921.754\n",
       "==============================================================================\n",
       "Omnibus:                      156.358   Durbin-Watson:                   2.080\n",
       "Prob(Omnibus):                  0.000   Jarque-Bera (JB):              202.106\n",
       "Skew:                           0.851   Prob(JB):                     1.30e-44\n",
       "Kurtosis:                       3.063   Cond. No.                     1.26e+06\n",
       "==============================================================================\n",
       "\n",
       "Notes:\n",
       "[1] Standard Errors assume that the covariance matrix of the errors is correctly specified.\n",
       "[2] The condition number is large, 1.26e+06. This might indicate that there are\n",
       "strong multicollinearity or other numerical problems.\n",
       "\"\"\""
      ]
     },
     "execution_count": 31,
     "metadata": {},
     "output_type": "execute_result"
    }
   ],
   "source": [
    "model1.summary()"
   ]
  },
  {
   "cell_type": "markdown",
   "id": "da7ea062",
   "metadata": {},
   "source": [
    "#### Forward selection"
   ]
  },
  {
   "cell_type": "code",
   "execution_count": 32,
   "id": "75ced566",
   "metadata": {},
   "outputs": [
    {
     "data": {
      "text/html": [
       "<div>\n",
       "<style scoped>\n",
       "    .dataframe tbody tr th:only-of-type {\n",
       "        vertical-align: middle;\n",
       "    }\n",
       "\n",
       "    .dataframe tbody tr th {\n",
       "        vertical-align: top;\n",
       "    }\n",
       "\n",
       "    .dataframe thead th {\n",
       "        text-align: right;\n",
       "    }\n",
       "</style>\n",
       "<table border=\"1\" class=\"dataframe\">\n",
       "  <thead>\n",
       "    <tr style=\"text-align: right;\">\n",
       "      <th></th>\n",
       "      <th>Value</th>\n",
       "      <th>S</th>\n",
       "      <th>K</th>\n",
       "      <th>tau</th>\n",
       "      <th>r</th>\n",
       "      <th>BS</th>\n",
       "    </tr>\n",
       "  </thead>\n",
       "  <tbody>\n",
       "    <tr>\n",
       "      <th>0</th>\n",
       "      <td>21.670404</td>\n",
       "      <td>431.623898</td>\n",
       "      <td>420.0</td>\n",
       "      <td>0.341270</td>\n",
       "      <td>0.03013</td>\n",
       "      <td>Under</td>\n",
       "    </tr>\n",
       "    <tr>\n",
       "      <th>1</th>\n",
       "      <td>0.125000</td>\n",
       "      <td>427.015526</td>\n",
       "      <td>465.0</td>\n",
       "      <td>0.166667</td>\n",
       "      <td>0.03126</td>\n",
       "      <td>Over</td>\n",
       "    </tr>\n",
       "    <tr>\n",
       "      <th>2</th>\n",
       "      <td>20.691244</td>\n",
       "      <td>427.762336</td>\n",
       "      <td>415.0</td>\n",
       "      <td>0.265873</td>\n",
       "      <td>0.03116</td>\n",
       "      <td>Under</td>\n",
       "    </tr>\n",
       "    <tr>\n",
       "      <th>3</th>\n",
       "      <td>1.035002</td>\n",
       "      <td>451.711658</td>\n",
       "      <td>460.0</td>\n",
       "      <td>0.063492</td>\n",
       "      <td>0.02972</td>\n",
       "      <td>Over</td>\n",
       "    </tr>\n",
       "    <tr>\n",
       "      <th>4</th>\n",
       "      <td>39.553020</td>\n",
       "      <td>446.718974</td>\n",
       "      <td>410.0</td>\n",
       "      <td>0.166667</td>\n",
       "      <td>0.02962</td>\n",
       "      <td>Under</td>\n",
       "    </tr>\n",
       "  </tbody>\n",
       "</table>\n",
       "</div>"
      ],
      "text/plain": [
       "       Value           S      K       tau        r     BS\n",
       "0  21.670404  431.623898  420.0  0.341270  0.03013  Under\n",
       "1   0.125000  427.015526  465.0  0.166667  0.03126   Over\n",
       "2  20.691244  427.762336  415.0  0.265873  0.03116  Under\n",
       "3   1.035002  451.711658  460.0  0.063492  0.02972   Over\n",
       "4  39.553020  446.718974  410.0  0.166667  0.02962  Under"
      ]
     },
     "execution_count": 32,
     "metadata": {},
     "output_type": "execute_result"
    }
   ],
   "source": [
    "data.head()"
   ]
  },
  {
   "cell_type": "code",
   "execution_count": 33,
   "id": "634faab8",
   "metadata": {},
   "outputs": [],
   "source": [
    "def forward_selection(X,y, hidden_layers):\n",
    "    \n",
    "    X_train, X_test, y_train, y_test = train_test_split(X, y, test_size = 0.2, random_state = 42)\n",
    "    \n",
    "    selected_features = []\n",
    "    \n",
    "    best_accuracy = 0\n",
    "    print(X_train.columns)\n",
    "    \n",
    "    for k in range(1, len(X_train.columns) +1 ):\n",
    "        \n",
    "        best_feature = None\n",
    "        best_feature_accuracy = 0\n",
    "        \n",
    "        \n",
    "        for curr_feature in X_train.columns :\n",
    "            print('curr_feature == >{}'.format(curr_feature))\n",
    "            if curr_feature in selected_features:\n",
    "                continue\n",
    "                \n",
    "                \n",
    "            features = list(selected_features) + [curr_feature]\n",
    "\n",
    "            print(features)\n",
    "            print('***')\n",
    "\n",
    "            X_train_subset = X_train[features]\n",
    "            X_test_subset = X_test[features]\n",
    "\n",
    "            clf = MLPClassifier(hidden_layer_sizes=hidden_layers, activation='relu', solver='adam', max_iter=500)\n",
    "\n",
    "            clf.fit(X_train_subset, y_train)\n",
    "\n",
    "\n",
    "            accuracy = clf.score(X_test_subset, y_test)\n",
    "            \n",
    "            print('Accuracy == {}'.format(accuracy))\n",
    "            print('\\n\\n')\n",
    "            print('*******************************************')\n",
    "\n",
    "        \n",
    "            if accuracy > best_feature_accuracy:\n",
    "                best_feature_accuracy = accuracy\n",
    "                best_feature = curr_feature\n",
    "            \n",
    "        \n",
    "        selected_features.append(best_feature)\n",
    "\n",
    "\n",
    "        if best_feature_accuracy > best_accuracy :\n",
    "            best_accuracy = best_feature_accuracy\n",
    "\n",
    "            \n",
    "    print('best accuracy = {}'.format(best_accuracy)) "
   ]
  },
  {
   "cell_type": "code",
   "execution_count": null,
   "id": "43922128",
   "metadata": {},
   "outputs": [],
   "source": []
  },
  {
   "cell_type": "markdown",
   "id": "52d79d67",
   "metadata": {},
   "source": [
    "### KNN Regressor"
   ]
  },
  {
   "cell_type": "code",
   "execution_count": 34,
   "id": "9d04d14e",
   "metadata": {},
   "outputs": [
    {
     "name": "stdout",
     "output_type": "stream",
     "text": [
      "MSE: 5.166724001925618\n",
      "0.9737069715501093\n"
     ]
    }
   ],
   "source": [
    "from sklearn.metrics import r2_score\n",
    "\n",
    "knn_reg = KNeighborsRegressor(n_neighbors=5)\n",
    "\n",
    "# Fitting the model to the training data\n",
    "knn_reg.fit(X_train, y_train)\n",
    "\n",
    "# Predicting the target values for the testing set\n",
    "y_pred = knn_reg.predict(X_test)\n",
    "\n",
    "# Calculating mean squared error (MSE)\n",
    "mse = mean_squared_error(y_test, y_pred)\n",
    "print(\"MSE:\", mse)\n",
    "\n",
    "r2 = r2_score(y_test, y_pred)\n",
    "print(r2)"
   ]
  },
  {
   "cell_type": "markdown",
   "id": "a2506253",
   "metadata": {},
   "source": [
    "### Decision Tree Regressor"
   ]
  },
  {
   "cell_type": "code",
   "execution_count": 35,
   "id": "fed1a6c8",
   "metadata": {},
   "outputs": [
    {
     "name": "stdout",
     "output_type": "stream",
     "text": [
      "out-of-sample: 0.9911382769841408\n"
     ]
    }
   ],
   "source": [
    "from sklearn import tree\n",
    "\n",
    "clf = tree.DecisionTreeRegressor()\n",
    "decisionTree_regression = clf.fit(X_train, y_train)\n",
    "y_pred_decisionTree = decisionTree_regression.predict(X_test)\n",
    "print(\"out-of-sample:\", decisionTree_regression.score(X_test, y_test))"
   ]
  },
  {
   "cell_type": "code",
   "execution_count": 36,
   "id": "bcf57d22",
   "metadata": {},
   "outputs": [
    {
     "data": {
      "text/plain": [
       "0.9910669552697274"
      ]
     },
     "execution_count": 36,
     "metadata": {},
     "output_type": "execute_result"
    }
   ],
   "source": [
    "adjR2_formula2 = 1 - ( 1-decisionTree_regression.score(X_test, y_test) ) * ( len(y_test) - 1 ) / ( len(y_test) -X_test.shape[1] - 1 )\n",
    "adjR2_formula2"
   ]
  },
  {
   "cell_type": "markdown",
   "id": "982b7f59",
   "metadata": {},
   "source": [
    "### Random Forest Regressor"
   ]
  },
  {
   "cell_type": "code",
   "execution_count": 37,
   "id": "63aaeeb0",
   "metadata": {},
   "outputs": [
    {
     "data": {
      "text/plain": [
       "0.9953878131909926"
      ]
     },
     "execution_count": 37,
     "metadata": {},
     "output_type": "execute_result"
    }
   ],
   "source": [
    "from sklearn.ensemble import RandomForestRegressor\n",
    "\n",
    "rf_model = RandomForestRegressor(n_estimators=100, random_state=42)\n",
    "\n",
    "randomForest_regression = rf_model.fit(X_train, y_train)\n",
    "\n",
    "randomForest_regression.score(X_test, y_test)"
   ]
  },
  {
   "cell_type": "markdown",
   "id": "b46240c0",
   "metadata": {},
   "source": [
    "## Classification"
   ]
  },
  {
   "cell_type": "code",
   "execution_count": 38,
   "id": "89157946",
   "metadata": {},
   "outputs": [],
   "source": [
    "data = pd.read_csv('option_train.csv')\n",
    "data = data.dropna()"
   ]
  },
  {
   "cell_type": "code",
   "execution_count": 39,
   "id": "e00cf6c0",
   "metadata": {},
   "outputs": [],
   "source": [
    "dic = {'Under': 0, 'Over': 1}"
   ]
  },
  {
   "cell_type": "code",
   "execution_count": 40,
   "id": "0ae8326e",
   "metadata": {},
   "outputs": [],
   "source": [
    "df2 = data"
   ]
  },
  {
   "cell_type": "code",
   "execution_count": 41,
   "id": "31119c5b",
   "metadata": {},
   "outputs": [
    {
     "data": {
      "text/html": [
       "<div>\n",
       "<style scoped>\n",
       "    .dataframe tbody tr th:only-of-type {\n",
       "        vertical-align: middle;\n",
       "    }\n",
       "\n",
       "    .dataframe tbody tr th {\n",
       "        vertical-align: top;\n",
       "    }\n",
       "\n",
       "    .dataframe thead th {\n",
       "        text-align: right;\n",
       "    }\n",
       "</style>\n",
       "<table border=\"1\" class=\"dataframe\">\n",
       "  <thead>\n",
       "    <tr style=\"text-align: right;\">\n",
       "      <th></th>\n",
       "      <th>Value</th>\n",
       "      <th>S</th>\n",
       "      <th>K</th>\n",
       "      <th>tau</th>\n",
       "      <th>r</th>\n",
       "      <th>BS</th>\n",
       "    </tr>\n",
       "  </thead>\n",
       "  <tbody>\n",
       "    <tr>\n",
       "      <th>0</th>\n",
       "      <td>21.670404</td>\n",
       "      <td>431.623898</td>\n",
       "      <td>420.0</td>\n",
       "      <td>0.341270</td>\n",
       "      <td>0.03013</td>\n",
       "      <td>Under</td>\n",
       "    </tr>\n",
       "    <tr>\n",
       "      <th>1</th>\n",
       "      <td>0.125000</td>\n",
       "      <td>427.015526</td>\n",
       "      <td>465.0</td>\n",
       "      <td>0.166667</td>\n",
       "      <td>0.03126</td>\n",
       "      <td>Over</td>\n",
       "    </tr>\n",
       "    <tr>\n",
       "      <th>2</th>\n",
       "      <td>20.691244</td>\n",
       "      <td>427.762336</td>\n",
       "      <td>415.0</td>\n",
       "      <td>0.265873</td>\n",
       "      <td>0.03116</td>\n",
       "      <td>Under</td>\n",
       "    </tr>\n",
       "    <tr>\n",
       "      <th>3</th>\n",
       "      <td>1.035002</td>\n",
       "      <td>451.711658</td>\n",
       "      <td>460.0</td>\n",
       "      <td>0.063492</td>\n",
       "      <td>0.02972</td>\n",
       "      <td>Over</td>\n",
       "    </tr>\n",
       "    <tr>\n",
       "      <th>4</th>\n",
       "      <td>39.553020</td>\n",
       "      <td>446.718974</td>\n",
       "      <td>410.0</td>\n",
       "      <td>0.166667</td>\n",
       "      <td>0.02962</td>\n",
       "      <td>Under</td>\n",
       "    </tr>\n",
       "    <tr>\n",
       "      <th>...</th>\n",
       "      <td>...</td>\n",
       "      <td>...</td>\n",
       "      <td>...</td>\n",
       "      <td>...</td>\n",
       "      <td>...</td>\n",
       "      <td>...</td>\n",
       "    </tr>\n",
       "    <tr>\n",
       "      <th>1675</th>\n",
       "      <td>1.470000</td>\n",
       "      <td>444.397163</td>\n",
       "      <td>475.0</td>\n",
       "      <td>0.273810</td>\n",
       "      <td>0.03034</td>\n",
       "      <td>Over</td>\n",
       "    </tr>\n",
       "    <tr>\n",
       "      <th>1676</th>\n",
       "      <td>34.927317</td>\n",
       "      <td>438.453825</td>\n",
       "      <td>410.0</td>\n",
       "      <td>0.301587</td>\n",
       "      <td>0.02972</td>\n",
       "      <td>Under</td>\n",
       "    </tr>\n",
       "    <tr>\n",
       "      <th>1677</th>\n",
       "      <td>41.127997</td>\n",
       "      <td>428.042219</td>\n",
       "      <td>390.0</td>\n",
       "      <td>0.170635</td>\n",
       "      <td>0.03188</td>\n",
       "      <td>Under</td>\n",
       "    </tr>\n",
       "    <tr>\n",
       "      <th>1678</th>\n",
       "      <td>0.440003</td>\n",
       "      <td>439.081203</td>\n",
       "      <td>480.0</td>\n",
       "      <td>0.293651</td>\n",
       "      <td>0.02962</td>\n",
       "      <td>Over</td>\n",
       "    </tr>\n",
       "    <tr>\n",
       "      <th>1679</th>\n",
       "      <td>0.410002</td>\n",
       "      <td>432.167692</td>\n",
       "      <td>465.0</td>\n",
       "      <td>0.218254</td>\n",
       "      <td>0.02993</td>\n",
       "      <td>Over</td>\n",
       "    </tr>\n",
       "  </tbody>\n",
       "</table>\n",
       "<p>1677 rows × 6 columns</p>\n",
       "</div>"
      ],
      "text/plain": [
       "          Value           S      K       tau        r     BS\n",
       "0     21.670404  431.623898  420.0  0.341270  0.03013  Under\n",
       "1      0.125000  427.015526  465.0  0.166667  0.03126   Over\n",
       "2     20.691244  427.762336  415.0  0.265873  0.03116  Under\n",
       "3      1.035002  451.711658  460.0  0.063492  0.02972   Over\n",
       "4     39.553020  446.718974  410.0  0.166667  0.02962  Under\n",
       "...         ...         ...    ...       ...      ...    ...\n",
       "1675   1.470000  444.397163  475.0  0.273810  0.03034   Over\n",
       "1676  34.927317  438.453825  410.0  0.301587  0.02972  Under\n",
       "1677  41.127997  428.042219  390.0  0.170635  0.03188  Under\n",
       "1678   0.440003  439.081203  480.0  0.293651  0.02962   Over\n",
       "1679   0.410002  432.167692  465.0  0.218254  0.02993   Over\n",
       "\n",
       "[1677 rows x 6 columns]"
      ]
     },
     "execution_count": 41,
     "metadata": {},
     "output_type": "execute_result"
    }
   ],
   "source": [
    "df2"
   ]
  },
  {
   "cell_type": "code",
   "execution_count": 42,
   "id": "855cb379",
   "metadata": {},
   "outputs": [],
   "source": [
    "df2['BS'] = df2['BS'].map(dic)"
   ]
  },
  {
   "cell_type": "code",
   "execution_count": 43,
   "id": "9d57cab8",
   "metadata": {},
   "outputs": [
    {
     "data": {
      "text/html": [
       "<div>\n",
       "<style scoped>\n",
       "    .dataframe tbody tr th:only-of-type {\n",
       "        vertical-align: middle;\n",
       "    }\n",
       "\n",
       "    .dataframe tbody tr th {\n",
       "        vertical-align: top;\n",
       "    }\n",
       "\n",
       "    .dataframe thead th {\n",
       "        text-align: right;\n",
       "    }\n",
       "</style>\n",
       "<table border=\"1\" class=\"dataframe\">\n",
       "  <thead>\n",
       "    <tr style=\"text-align: right;\">\n",
       "      <th></th>\n",
       "      <th>Value</th>\n",
       "      <th>S</th>\n",
       "      <th>K</th>\n",
       "      <th>tau</th>\n",
       "      <th>r</th>\n",
       "      <th>BS</th>\n",
       "    </tr>\n",
       "  </thead>\n",
       "  <tbody>\n",
       "    <tr>\n",
       "      <th>0</th>\n",
       "      <td>21.670404</td>\n",
       "      <td>431.623898</td>\n",
       "      <td>420.0</td>\n",
       "      <td>0.341270</td>\n",
       "      <td>0.03013</td>\n",
       "      <td>0</td>\n",
       "    </tr>\n",
       "    <tr>\n",
       "      <th>1</th>\n",
       "      <td>0.125000</td>\n",
       "      <td>427.015526</td>\n",
       "      <td>465.0</td>\n",
       "      <td>0.166667</td>\n",
       "      <td>0.03126</td>\n",
       "      <td>1</td>\n",
       "    </tr>\n",
       "    <tr>\n",
       "      <th>2</th>\n",
       "      <td>20.691244</td>\n",
       "      <td>427.762336</td>\n",
       "      <td>415.0</td>\n",
       "      <td>0.265873</td>\n",
       "      <td>0.03116</td>\n",
       "      <td>0</td>\n",
       "    </tr>\n",
       "    <tr>\n",
       "      <th>3</th>\n",
       "      <td>1.035002</td>\n",
       "      <td>451.711658</td>\n",
       "      <td>460.0</td>\n",
       "      <td>0.063492</td>\n",
       "      <td>0.02972</td>\n",
       "      <td>1</td>\n",
       "    </tr>\n",
       "    <tr>\n",
       "      <th>4</th>\n",
       "      <td>39.553020</td>\n",
       "      <td>446.718974</td>\n",
       "      <td>410.0</td>\n",
       "      <td>0.166667</td>\n",
       "      <td>0.02962</td>\n",
       "      <td>0</td>\n",
       "    </tr>\n",
       "    <tr>\n",
       "      <th>...</th>\n",
       "      <td>...</td>\n",
       "      <td>...</td>\n",
       "      <td>...</td>\n",
       "      <td>...</td>\n",
       "      <td>...</td>\n",
       "      <td>...</td>\n",
       "    </tr>\n",
       "    <tr>\n",
       "      <th>1675</th>\n",
       "      <td>1.470000</td>\n",
       "      <td>444.397163</td>\n",
       "      <td>475.0</td>\n",
       "      <td>0.273810</td>\n",
       "      <td>0.03034</td>\n",
       "      <td>1</td>\n",
       "    </tr>\n",
       "    <tr>\n",
       "      <th>1676</th>\n",
       "      <td>34.927317</td>\n",
       "      <td>438.453825</td>\n",
       "      <td>410.0</td>\n",
       "      <td>0.301587</td>\n",
       "      <td>0.02972</td>\n",
       "      <td>0</td>\n",
       "    </tr>\n",
       "    <tr>\n",
       "      <th>1677</th>\n",
       "      <td>41.127997</td>\n",
       "      <td>428.042219</td>\n",
       "      <td>390.0</td>\n",
       "      <td>0.170635</td>\n",
       "      <td>0.03188</td>\n",
       "      <td>0</td>\n",
       "    </tr>\n",
       "    <tr>\n",
       "      <th>1678</th>\n",
       "      <td>0.440003</td>\n",
       "      <td>439.081203</td>\n",
       "      <td>480.0</td>\n",
       "      <td>0.293651</td>\n",
       "      <td>0.02962</td>\n",
       "      <td>1</td>\n",
       "    </tr>\n",
       "    <tr>\n",
       "      <th>1679</th>\n",
       "      <td>0.410002</td>\n",
       "      <td>432.167692</td>\n",
       "      <td>465.0</td>\n",
       "      <td>0.218254</td>\n",
       "      <td>0.02993</td>\n",
       "      <td>1</td>\n",
       "    </tr>\n",
       "  </tbody>\n",
       "</table>\n",
       "<p>1677 rows × 6 columns</p>\n",
       "</div>"
      ],
      "text/plain": [
       "          Value           S      K       tau        r  BS\n",
       "0     21.670404  431.623898  420.0  0.341270  0.03013   0\n",
       "1      0.125000  427.015526  465.0  0.166667  0.03126   1\n",
       "2     20.691244  427.762336  415.0  0.265873  0.03116   0\n",
       "3      1.035002  451.711658  460.0  0.063492  0.02972   1\n",
       "4     39.553020  446.718974  410.0  0.166667  0.02962   0\n",
       "...         ...         ...    ...       ...      ...  ..\n",
       "1675   1.470000  444.397163  475.0  0.273810  0.03034   1\n",
       "1676  34.927317  438.453825  410.0  0.301587  0.02972   0\n",
       "1677  41.127997  428.042219  390.0  0.170635  0.03188   0\n",
       "1678   0.440003  439.081203  480.0  0.293651  0.02962   1\n",
       "1679   0.410002  432.167692  465.0  0.218254  0.02993   1\n",
       "\n",
       "[1677 rows x 6 columns]"
      ]
     },
     "execution_count": 43,
     "metadata": {},
     "output_type": "execute_result"
    }
   ],
   "source": [
    "df2"
   ]
  },
  {
   "cell_type": "code",
   "execution_count": 44,
   "id": "1148d9de",
   "metadata": {},
   "outputs": [],
   "source": [
    "X = df2.iloc[:, 1:5]\n",
    "y = df2.iloc[:, -1]"
   ]
  },
  {
   "cell_type": "code",
   "execution_count": 45,
   "id": "2d52a932",
   "metadata": {},
   "outputs": [],
   "source": [
    "X_train, X_test, y_train, y_test = train_test_split(X, y, test_size=0.3, stratify = y )"
   ]
  },
  {
   "cell_type": "code",
   "execution_count": 46,
   "id": "586f72d5",
   "metadata": {},
   "outputs": [],
   "source": [
    "df2['tau'] = df2['tau'].astype(str).astype(float)"
   ]
  },
  {
   "cell_type": "markdown",
   "id": "a35390ec",
   "metadata": {},
   "source": [
    "### Logistic Regression Classifier"
   ]
  },
  {
   "cell_type": "code",
   "execution_count": 47,
   "id": "5860f193",
   "metadata": {},
   "outputs": [
    {
     "name": "stdout",
     "output_type": "stream",
     "text": [
      "Optimization terminated successfully.\n",
      "         Current function value: 0.211749\n",
      "         Iterations 13\n"
     ]
    },
    {
     "name": "stderr",
     "output_type": "stream",
     "text": [
      "/Users/tsunder/miniforge3/envs/tfmetal/lib/python3.9/site-packages/statsmodels/discrete/discrete_model.py:1819: RuntimeWarning: overflow encountered in exp\n",
      "  return 1/(1+np.exp(-X))\n"
     ]
    }
   ],
   "source": [
    "logistic_model = smf.logit('BS ~ S + K + tau + r', data = df2).fit()"
   ]
  },
  {
   "cell_type": "code",
   "execution_count": 48,
   "id": "4edba236",
   "metadata": {},
   "outputs": [
    {
     "name": "stderr",
     "output_type": "stream",
     "text": [
      "/Users/tsunder/miniforge3/envs/tfmetal/lib/python3.9/site-packages/statsmodels/discrete/discrete_model.py:1819: RuntimeWarning: overflow encountered in exp\n",
      "  return 1/(1+np.exp(-X))\n"
     ]
    },
    {
     "data": {
      "text/html": [
       "<table class=\"simpletable\">\n",
       "<caption>Logit Regression Results</caption>\n",
       "<tr>\n",
       "  <th>Dep. Variable:</th>          <td>BS</td>        <th>  No. Observations:  </th>  <td>  1677</td> \n",
       "</tr>\n",
       "<tr>\n",
       "  <th>Model:</th>                 <td>Logit</td>      <th>  Df Residuals:      </th>  <td>  1672</td> \n",
       "</tr>\n",
       "<tr>\n",
       "  <th>Method:</th>                 <td>MLE</td>       <th>  Df Model:          </th>  <td>     4</td> \n",
       "</tr>\n",
       "<tr>\n",
       "  <th>Date:</th>            <td>Wed, 07 Jun 2023</td> <th>  Pseudo R-squ.:     </th>  <td>0.6909</td> \n",
       "</tr>\n",
       "<tr>\n",
       "  <th>Time:</th>                <td>17:05:20</td>     <th>  Log-Likelihood:    </th> <td> -355.10</td>\n",
       "</tr>\n",
       "<tr>\n",
       "  <th>converged:</th>             <td>True</td>       <th>  LL-Null:           </th> <td> -1148.8</td>\n",
       "</tr>\n",
       "<tr>\n",
       "  <th>Covariance Type:</th>     <td>nonrobust</td>    <th>  LLR p-value:       </th>  <td> 0.000</td> \n",
       "</tr>\n",
       "</table>\n",
       "<table class=\"simpletable\">\n",
       "<tr>\n",
       "      <td></td>         <th>coef</th>     <th>std err</th>      <th>z</th>      <th>P>|z|</th>  <th>[0.025</th>    <th>0.975]</th>  \n",
       "</tr>\n",
       "<tr>\n",
       "  <th>Intercept</th> <td>   41.2131</td> <td>   10.360</td> <td>    3.978</td> <td> 0.000</td> <td>   20.908</td> <td>   61.519</td>\n",
       "</tr>\n",
       "<tr>\n",
       "  <th>S</th>         <td>   -0.2435</td> <td>    0.019</td> <td>  -12.789</td> <td> 0.000</td> <td>   -0.281</td> <td>   -0.206</td>\n",
       "</tr>\n",
       "<tr>\n",
       "  <th>K</th>         <td>    0.2107</td> <td>    0.012</td> <td>   18.070</td> <td> 0.000</td> <td>    0.188</td> <td>    0.234</td>\n",
       "</tr>\n",
       "<tr>\n",
       "  <th>tau</th>       <td>    0.0117</td> <td>    0.041</td> <td>    0.282</td> <td> 0.778</td> <td>   -0.069</td> <td>    0.093</td>\n",
       "</tr>\n",
       "<tr>\n",
       "  <th>r</th>         <td> -891.1145</td> <td>  194.977</td> <td>   -4.570</td> <td> 0.000</td> <td>-1273.262</td> <td> -508.967</td>\n",
       "</tr>\n",
       "</table>"
      ],
      "text/plain": [
       "<class 'statsmodels.iolib.summary.Summary'>\n",
       "\"\"\"\n",
       "                           Logit Regression Results                           \n",
       "==============================================================================\n",
       "Dep. Variable:                     BS   No. Observations:                 1677\n",
       "Model:                          Logit   Df Residuals:                     1672\n",
       "Method:                           MLE   Df Model:                            4\n",
       "Date:                Wed, 07 Jun 2023   Pseudo R-squ.:                  0.6909\n",
       "Time:                        17:05:20   Log-Likelihood:                -355.10\n",
       "converged:                       True   LL-Null:                       -1148.8\n",
       "Covariance Type:            nonrobust   LLR p-value:                     0.000\n",
       "==============================================================================\n",
       "                 coef    std err          z      P>|z|      [0.025      0.975]\n",
       "------------------------------------------------------------------------------\n",
       "Intercept     41.2131     10.360      3.978      0.000      20.908      61.519\n",
       "S             -0.2435      0.019    -12.789      0.000      -0.281      -0.206\n",
       "K              0.2107      0.012     18.070      0.000       0.188       0.234\n",
       "tau            0.0117      0.041      0.282      0.778      -0.069       0.093\n",
       "r           -891.1145    194.977     -4.570      0.000   -1273.262    -508.967\n",
       "==============================================================================\n",
       "\"\"\""
      ]
     },
     "execution_count": 48,
     "metadata": {},
     "output_type": "execute_result"
    }
   ],
   "source": [
    "logistic_model.summary()"
   ]
  },
  {
   "cell_type": "code",
   "execution_count": 49,
   "id": "0ccc4d38",
   "metadata": {},
   "outputs": [
    {
     "data": {
      "text/plain": [
       "array([[877.,  68.],\n",
       "       [ 80., 652.]])"
      ]
     },
     "execution_count": 49,
     "metadata": {},
     "output_type": "execute_result"
    }
   ],
   "source": [
    "prediction_log = logistic_model.predict()\n",
    "arr = logistic_model.pred_table()\n",
    "arr"
   ]
  },
  {
   "cell_type": "code",
   "execution_count": 50,
   "id": "476b5eec",
   "metadata": {},
   "outputs": [
    {
     "data": {
      "text/plain": [
       "0.9117471675611211"
      ]
     },
     "execution_count": 50,
     "metadata": {},
     "output_type": "execute_result"
    }
   ],
   "source": [
    "(arr[0][0] + arr[1][1]) / ((arr[0][0] + arr[1][1]) +(arr[0][1] + arr[1][0]))"
   ]
  },
  {
   "cell_type": "markdown",
   "id": "ae3b6ecf",
   "metadata": {},
   "source": [
    "### KNN Classifier"
   ]
  },
  {
   "cell_type": "code",
   "execution_count": 51,
   "id": "165ac98e",
   "metadata": {},
   "outputs": [
    {
     "name": "stdout",
     "output_type": "stream",
     "text": [
      "Accuracy:  0.9226190476190477\n"
     ]
    }
   ],
   "source": [
    "knn_model = KNeighborsClassifier(n_neighbors=5)\n",
    "\n",
    "knn_model.fit(X_train, y_train)\n",
    "\n",
    "y_pred = knn_model.predict(X_test)\n",
    "\n",
    "accuracy = accuracy_score(y_test, y_pred)\n",
    "print(\"Accuracy: \", accuracy)"
   ]
  },
  {
   "cell_type": "markdown",
   "id": "e8ea6bcf",
   "metadata": {},
   "source": [
    "### Decision Tree Classifier"
   ]
  },
  {
   "cell_type": "code",
   "execution_count": 52,
   "id": "0b1947cb",
   "metadata": {},
   "outputs": [
    {
     "name": "stdout",
     "output_type": "stream",
     "text": [
      "Accuracy: 0.9186507936507936\n"
     ]
    }
   ],
   "source": [
    "dtc = DecisionTreeClassifier()\n",
    "\n",
    "dtc.fit(X_train, y_train)\n",
    "\n",
    "y_pred = dtc.predict(X_test)\n",
    "\n",
    "print('Accuracy:', dtc.score(X_test, y_test))"
   ]
  },
  {
   "cell_type": "markdown",
   "id": "7bf9130d",
   "metadata": {},
   "source": [
    "### Random Forest Classifier"
   ]
  },
  {
   "cell_type": "code",
   "execution_count": 53,
   "id": "7c7199ab",
   "metadata": {},
   "outputs": [
    {
     "name": "stdout",
     "output_type": "stream",
     "text": [
      "Accuracy: 0.9563492063492064\n"
     ]
    }
   ],
   "source": [
    "rf = RandomForestClassifier(n_estimators=50, random_state=42)\n",
    "rf.fit(X_train, y_train)\n",
    "y_pred = rf.predict(X_test)\n",
    "accuracy = accuracy_score(y_test, y_pred)\n",
    "print('Accuracy:', accuracy)"
   ]
  },
  {
   "cell_type": "markdown",
   "id": "8fe53c80",
   "metadata": {},
   "source": [
    "## Testing Prediction - Final models"
   ]
  },
  {
   "cell_type": "markdown",
   "id": "4b15a854",
   "metadata": {},
   "source": [
    "### Regression - Random Forest Regressor"
   ]
  },
  {
   "cell_type": "code",
   "execution_count": 54,
   "id": "0fe0264c",
   "metadata": {},
   "outputs": [
    {
     "data": {
      "text/plain": [
       "0.8483571446862996"
      ]
     },
     "execution_count": 54,
     "metadata": {},
     "output_type": "execute_result"
    }
   ],
   "source": [
    "from sklearn.ensemble import RandomForestRegressor\n",
    "\n",
    "rf_model = RandomForestRegressor(n_estimators=100, random_state=42)\n",
    "\n",
    "randomForest_regression = rf_model.fit(X_train, y_train)\n",
    "\n",
    "randomForest_regression.score(X_test, y_test)"
   ]
  },
  {
   "cell_type": "code",
   "execution_count": 55,
   "id": "8cc51685",
   "metadata": {
    "scrolled": true
   },
   "outputs": [
    {
     "name": "stderr",
     "output_type": "stream",
     "text": [
      "/Users/tsunder/miniforge3/envs/tfmetal/lib/python3.9/site-packages/sklearn/base.py:450: UserWarning: X does not have valid feature names, but RandomForestRegressor was fitted with feature names\n",
      "  warnings.warn(\n"
     ]
    }
   ],
   "source": [
    "y_predict = rf_model.predict(test_data.values)"
   ]
  },
  {
   "cell_type": "code",
   "execution_count": 56,
   "id": "31e1156d",
   "metadata": {},
   "outputs": [
    {
     "data": {
      "text/plain": [
       "array([1.  , 0.  , 0.31, ..., 1.  , 0.  , 0.28])"
      ]
     },
     "execution_count": 56,
     "metadata": {},
     "output_type": "execute_result"
    }
   ],
   "source": [
    "y_predict"
   ]
  },
  {
   "cell_type": "code",
   "execution_count": 57,
   "id": "2c1bf03a",
   "metadata": {},
   "outputs": [],
   "source": [
    "dfpred = pd.DataFrame(y_predict)"
   ]
  },
  {
   "cell_type": "code",
   "execution_count": 58,
   "id": "2a6cc1eb",
   "metadata": {},
   "outputs": [],
   "source": [
    "dfpred.to_csv(\"Regression_results.csv\")"
   ]
  },
  {
   "cell_type": "markdown",
   "id": "de566a61",
   "metadata": {},
   "source": [
    "### Classification - Random Forest Classifier"
   ]
  },
  {
   "cell_type": "code",
   "execution_count": 59,
   "id": "70d0ba13",
   "metadata": {},
   "outputs": [
    {
     "name": "stdout",
     "output_type": "stream",
     "text": [
      "Accuracy: 0.9543650793650794\n"
     ]
    }
   ],
   "source": [
    "rf = RandomForestClassifier(n_estimators=230, random_state=42)\n",
    "rf.fit(X_train, y_train)\n",
    "y_pred = rf.predict(X_test)\n",
    "accuracy = accuracy_score(y_test, y_pred)\n",
    "print('Accuracy:', accuracy)"
   ]
  },
  {
   "cell_type": "code",
   "execution_count": 60,
   "id": "1995b99b",
   "metadata": {},
   "outputs": [],
   "source": [
    "y_test_pred = rf.predict(test_data)"
   ]
  },
  {
   "cell_type": "code",
   "execution_count": 61,
   "id": "d7289e92",
   "metadata": {},
   "outputs": [],
   "source": [
    "dfpred = pd.DataFrame({'BS' : y_test_pred})"
   ]
  },
  {
   "cell_type": "code",
   "execution_count": 62,
   "id": "b6f45d27",
   "metadata": {},
   "outputs": [],
   "source": [
    "dfpred.to_csv('Classification_results.csv')"
   ]
  }
 ],
 "metadata": {
  "kernelspec": {
   "display_name": "Python 3 (ipykernel)",
   "language": "python",
   "name": "python3"
  },
  "language_info": {
   "codemirror_mode": {
    "name": "ipython",
    "version": 3
   },
   "file_extension": ".py",
   "mimetype": "text/x-python",
   "name": "python",
   "nbconvert_exporter": "python",
   "pygments_lexer": "ipython3",
   "version": "3.9.13"
  },
  "toc": {
   "base_numbering": 1,
   "nav_menu": {},
   "number_sections": true,
   "sideBar": true,
   "skip_h1_title": false,
   "title_cell": "Table of Contents",
   "title_sidebar": "Contents",
   "toc_cell": false,
   "toc_position": {},
   "toc_section_display": true,
   "toc_window_display": false
  }
 },
 "nbformat": 4,
 "nbformat_minor": 5
}
